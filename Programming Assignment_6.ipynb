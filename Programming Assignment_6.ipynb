{
 "cells": [
  {
   "cell_type": "code",
   "execution_count": 10,
   "id": "92f722a3",
   "metadata": {},
   "outputs": [
    {
     "name": "stdout",
     "output_type": "stream",
     "text": [
      "Enter the number of terms in Fibonacci sequence: 3\n",
      "Fibonacci sequence: [0, 1, 1]\n"
     ]
    }
   ],
   "source": [
    "#1: Write a Python Program to Display Fibonacci Sequence Using Recursion?\n",
    "#code:\n",
    "def fibonacci(n):\n",
    "    if n <= 0:\n",
    "        return []\n",
    "    elif n == 1:\n",
    "        return [0]\n",
    "    elif n == 2:\n",
    "        return [0, 1]\n",
    "    else:\n",
    "        seq = fibonacci(n - 1)\n",
    "        seq.append(seq[-1] + seq[-2])\n",
    "        return seq\n",
    "\n",
    "n = int(input(\"Enter the number of terms in Fibonacci sequence: \"))\n",
    "print(f\"Fibonacci sequence: {fibonacci(n)}\")\n"
   ]
  },
  {
   "cell_type": "code",
   "execution_count": 11,
   "id": "9ee7029c",
   "metadata": {},
   "outputs": [
    {
     "name": "stdout",
     "output_type": "stream",
     "text": [
      "Enter a number to find its factorial: 5\n",
      "Factorial of 5 is 120\n"
     ]
    }
   ],
   "source": [
    "#2:Write a Python Program to Find Factorial of Number Using Recursion?\n",
    "#Code:\n",
    "def factorial(n):\n",
    "    if n == 0 or n == 1:\n",
    "        return 1\n",
    "    else:\n",
    "        return n * factorial(n - 1)\n",
    "\n",
    "num = int(input(\"Enter a number to find its factorial: \"))\n",
    "print(f\"Factorial of {num} is {factorial(num)}\")\n"
   ]
  },
  {
   "cell_type": "code",
   "execution_count": 23,
   "id": "68b98572",
   "metadata": {},
   "outputs": [
    {
     "name": "stdout",
     "output_type": "stream",
     "text": [
      "Enter your weight in kilograms: 70\n",
      "Enter your height in meters: 1.70\n",
      "Your Body Mass Index (BMI) is: 24.22\n"
     ]
    }
   ],
   "source": [
    "#3:Write a Python Program to calculate your Body Mass Index?\n",
    "#code:\n",
    "def BMI(h,w):\n",
    "    if h and w == 0:\n",
    "        return (\"invalid Input\")\n",
    "    else:\n",
    "        bmi = w/(h**2)\n",
    "        return bmi\n",
    "weight = float(input(\"Enter your weight in kilograms: \"))\n",
    "height = float(input(\"Enter your height in meters: \"))\n",
    "bmi = BMI(height,weight)\n",
    "print(f\"Your Body Mass Index (BMI) is: {bmi:.2f}\")    "
   ]
  },
  {
   "cell_type": "code",
   "execution_count": 25,
   "id": "d94869af",
   "metadata": {},
   "outputs": [
    {
     "name": "stdout",
     "output_type": "stream",
     "text": [
      "Enter a number to calculate its natural logarithm: 9\n",
      "The natural logarithm of 9.0 is: 2.1972245773362196\n"
     ]
    }
   ],
   "source": [
    "#4:Write a Python Program to calculate the natural logarithm of any number?\n",
    "#Code\n",
    "import math\n",
    "def calculate_natural_log(num):\n",
    "    if num <= 0:\n",
    "        return \"Natural logarithm is undefined for non-positive numbers.\"\n",
    "    else:\n",
    "        return math.log(num)\n",
    "\n",
    "num = float(input(\"Enter a number to calculate its natural logarithm: \"))\n",
    "print(f\"The natural logarithm of {num} is: {calculate_natural_log(num)}\")\n"
   ]
  },
  {
   "cell_type": "code",
   "execution_count": 24,
   "id": "b0f9acd8",
   "metadata": {},
   "outputs": [
    {
     "name": "stdout",
     "output_type": "stream",
     "text": [
      "Enter a number to calculate the sum of cubes of first n natural numbers: 5\n",
      "The sum of cubes of the first 5 natural numbers is: 225\n"
     ]
    }
   ],
   "source": [
    "#5:Write a Python Program for cube sum of first n natural numbers?\n",
    "#code:\n",
    "def cube_sum(n):\n",
    "    return sum(i ** 3 for i in range(1, n + 1))\n",
    "\n",
    "n = int(input(\"Enter a number to calculate the sum of cubes of first n natural numbers: \"))\n",
    "print(f\"The sum of cubes of the first {n} natural numbers is: {cube_sum(n)}\")\n"
   ]
  },
  {
   "cell_type": "code",
   "execution_count": null,
   "id": "8e6ab831",
   "metadata": {},
   "outputs": [],
   "source": []
  }
 ],
 "metadata": {
  "kernelspec": {
   "display_name": "Python 3 (ipykernel)",
   "language": "python",
   "name": "python3"
  },
  "language_info": {
   "codemirror_mode": {
    "name": "ipython",
    "version": 3
   },
   "file_extension": ".py",
   "mimetype": "text/x-python",
   "name": "python",
   "nbconvert_exporter": "python",
   "pygments_lexer": "ipython3",
   "version": "3.11.5"
  }
 },
 "nbformat": 4,
 "nbformat_minor": 5
}
