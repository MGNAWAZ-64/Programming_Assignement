{
 "cells": [
  {
   "cell_type": "code",
   "execution_count": 17,
   "id": "4b909fe3",
   "metadata": {},
   "outputs": [],
   "source": [
    "#1:Write a Python Program to Find the Factorial of a Number?\n",
    "def Factorial_Number (n):\n",
    "    #factorial of a number is EX: n =2 > 2x1 =2\n",
    "    if n<0:\n",
    "        return\"Negative Factorial is not defiend\"      \n",
    "    fact = 1\n",
    "    for i in range(1,n+1):\n",
    "        fact = fact*i\n",
    "    return fact\n",
    "#Example Input\n",
    "n = int(input(\"Enter the number to derive a factorial for \"))\n",
    "print(f\"The factorial is:{Factorial_Number(n)} \")\n",
    "    "
   ]
  },
  {
   "cell_type": "code",
   "execution_count": 37,
   "id": "e8260fe6",
   "metadata": {},
   "outputs": [
    {
     "name": "stdout",
     "output_type": "stream",
     "text": [
      "5 x 1 = 5\n",
      "5 x 2 = 10\n",
      "5 x 3 = 15\n",
      "5 x 4 = 20\n",
      "5 x 5 = 25\n",
      "5 x 6 = 30\n",
      "5 x 7 = 35\n",
      "5 x 8 = 40\n",
      "5 x 9 = 45\n",
      "5 x 10 = 50\n",
      "5 x 11 = 55\n",
      "5 x 12 = 60\n",
      "5 x 13 = 65\n",
      "5 x 14 = 70\n",
      "5 x 15 = 75\n",
      "5 x 16 = 80\n",
      "5 x 17 = 85\n",
      "5 x 18 = 90\n",
      "5 x 19 = 95\n",
      "5 x 20 = 100\n"
     ]
    }
   ],
   "source": [
    "#2:Write a Python Program to Display the multiplication Table?\n",
    "def multiple_table(n,upto):\n",
    "    #to get a multiplication table it states n*integer_value=m ,2*1=2\n",
    "    if n == 0:\n",
    "        return \"Anything multipled  by zero will be zero!!!!!\"\n",
    "    for i in range(1,upto+1):\n",
    "        m =n*i\n",
    "        print(f\"{n} x {i} = {m}\")\n",
    "        \n",
    "#Sample input:\n",
    "n = 5\n",
    "u= 20\n",
    "multiple_table(n,u)\n"
   ]
  },
  {
   "cell_type": "code",
   "execution_count": 13,
   "id": "eb45007f",
   "metadata": {},
   "outputs": [
    {
     "name": "stdout",
     "output_type": "stream",
     "text": [
      "Enter the value of n5\n"
     ]
    },
    {
     "data": {
      "text/plain": [
       "[0, 1, 1, 2, 3]"
      ]
     },
     "execution_count": 13,
     "metadata": {},
     "output_type": "execute_result"
    }
   ],
   "source": [
    "#3:Write a Python Program to Print the Fibonacci sequence?\n",
    "def fibonacci_sequence(n):\n",
    "    if n < 0:\n",
    "        return \"Provide a positive integer\"\n",
    "    a,b=0,1\n",
    "    sequence =[a]\n",
    "    while len(sequence)< n:\n",
    "        sequence.append(b)\n",
    "        a,b = b,a+b\n",
    "    \n",
    "    return sequence\n",
    "#Sample input\n",
    "n = int(input(\"Enter the value of n\"))\n",
    "fibonacci_sequence(n)"
   ]
  },
  {
   "cell_type": "code",
   "execution_count": 32,
   "id": "ca004edb",
   "metadata": {},
   "outputs": [],
   "source": [
    "#4:Write a Python Program to Check Armstrong Number?\n",
    "def Armstrong_Number(n):\n",
    "    digits = str(n)\n",
    "    order = len(digits)\n",
    "    sum_of_powers = 0\n",
    "    for digit in digits:\n",
    "        sum_of_powers += int(digit)**order\n",
    "    return sum_of_powers == n    \n",
    "\n",
    "#Example Input\n",
    "a = Armstrong_Number(153)\n",
    "print(a)"
   ]
  },
  {
   "cell_type": "code",
   "execution_count": 45,
   "id": "8a0f0be5",
   "metadata": {},
   "outputs": [
    {
     "name": "stdout",
     "output_type": "stream",
     "text": [
      "Enter the lower bound of the interval: 100\n",
      "Enter the upper bound of the interval: 500\n",
      "Armstrong numbers between 100 and 500: [153, 370, 371, 407]\n"
     ]
    }
   ],
   "source": [
    "#5:Write a Python Program to Find Armstrong Number in an Interval?\n",
    "def Armstrong_Number(n):\n",
    "    digits = str(n)\n",
    "    order = len(digits)\n",
    "    sum_of_powers = 0\n",
    "    for digit in digits:\n",
    "        sum_of_powers += int(digit)**order\n",
    "    return sum_of_powers == n   \n",
    "def Find_Armstrong_Numbers(lower,upper):\n",
    "    armstrong_number = []\n",
    "    for n in range(lower,upper+1):\n",
    "        if Armstrong_Number(n):\n",
    "            armstrong_number.append(n)\n",
    "    return armstrong_number\n",
    "#Example input    \n",
    "lower = int(input(\"Enter the lower bound of the interval: \"))\n",
    "upper = int(input(\"Enter the upper bound of the interval: \"))\n",
    "\n",
    "# Find Armstrong numbers in the interval\n",
    "armstrong_numbers= Find_Armstrong_Numbers(lower, upper)\n",
    "\n",
    "# Print the Armstrong numbers\n",
    "print(f\"Armstrong numbers between {lower} and {upper}: {armstrong_numbers}\")    \n"
   ]
  },
  {
   "cell_type": "code",
   "execution_count": 57,
   "id": "643cf1af",
   "metadata": {},
   "outputs": [
    {
     "name": "stdout",
     "output_type": "stream",
     "text": [
      "Enter a positive integer: 7\n",
      "The sum of natural numbers up to 7 is: 28\n"
     ]
    }
   ],
   "source": [
    "#6:Write a Python Program to Find the Sum of Natural Numbers?\n",
    "def sum_of_natural_numbers(n):\n",
    "    sum = 0\n",
    "    for i in range(1, n + 1):\n",
    "        sum += i\n",
    "    return sum\n",
    "\n",
    "# Input number\n",
    "n = int(input(\"Enter a positive integer: \"))\n",
    "\n",
    "# Find the sum of natural numbers\n",
    "sum_natural = sum_of_natural_numbers(n)\n",
    "\n",
    "# Print the result\n",
    "print(f\"The sum of natural numbers up to {n} is: {sum_natural}\")\n",
    "\n",
    "    "
   ]
  },
  {
   "cell_type": "code",
   "execution_count": 58,
   "id": "6c6631db",
   "metadata": {},
   "outputs": [
    {
     "name": "stdout",
     "output_type": "stream",
     "text": [
      "Thank You\n"
     ]
    }
   ],
   "source": [
    "print(\"Thank You\")"
   ]
  },
  {
   "cell_type": "code",
   "execution_count": null,
   "id": "2c63756a",
   "metadata": {},
   "outputs": [],
   "source": []
  }
 ],
 "metadata": {
  "kernelspec": {
   "display_name": "Python 3 (ipykernel)",
   "language": "python",
   "name": "python3"
  },
  "language_info": {
   "codemirror_mode": {
    "name": "ipython",
    "version": 3
   },
   "file_extension": ".py",
   "mimetype": "text/x-python",
   "name": "python",
   "nbconvert_exporter": "python",
   "pygments_lexer": "ipython3",
   "version": "3.11.5"
  }
 },
 "nbformat": 4,
 "nbformat_minor": 5
}
