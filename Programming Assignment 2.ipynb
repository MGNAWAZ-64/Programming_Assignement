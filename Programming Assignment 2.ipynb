{
 "cells": [
  {
   "cell_type": "code",
   "execution_count": 6,
   "id": "9e058571",
   "metadata": {},
   "outputs": [
    {
     "name": "stdout",
     "output_type": "stream",
     "text": [
      "Enter the value of kilometer:10\n",
      "The value of miles in kilometer is:6.21\n"
     ]
    }
   ],
   "source": [
    "#1:Write a Python program to convert kilometers to miles?\n",
    "def kilometer_miles(value_kilometer):\n",
    "    if type(value_kilometer) == float:\n",
    "        value_miles = (value_kilometer * 0.621)\n",
    "        return(value_miles)\n",
    "    else:\n",
    "        print(\"Enter valid input\")\n",
    "#Sample input\n",
    "value_kilometer = float(input(\"Enter the value of kilometer:\"))\n",
    "Miles_in_kilometer = kilometer_miles(value_kilometer)\n",
    "print(f\"The value of miles in kilometer is:{Miles_in_kilometer}\")\n",
    "\n",
    "\n",
    "    "
   ]
  },
  {
   "cell_type": "code",
   "execution_count": 13,
   "id": "80ba6201",
   "metadata": {},
   "outputs": [
    {
     "name": "stdout",
     "output_type": "stream",
     "text": [
      "Enter the value in celsious:50\n",
      "The value of 50.0 in Fahrenheit is :122.0\n"
     ]
    }
   ],
   "source": [
    "#2:Write a Python program to convert Celsius to Fahrenheit?\n",
    "def Celsious_into_fahrenheit(value_in_celsious):\n",
    "    if type(value_in_celsious)==float:\n",
    "        value_in_Fahrenheit = (value_in_celsious*1.8) +32\n",
    "        return (value_in_Fahrenheit)\n",
    "    else:\n",
    "        print(\"Enter valid input\")\n",
    "#Sample Input \n",
    "value_in_celsious = float(input(\"Enter the value in celsious:\"))\n",
    "VIF = Celsious_into_fahrenheit(value_in_celsious)\n",
    "print(f\"The value of {value_in_celsious} in Fahrenheit is :{VIF}\")"
   ]
  },
  {
   "cell_type": "code",
   "execution_count": 3,
   "id": "41b4e5ac",
   "metadata": {},
   "outputs": [
    {
     "name": "stdout",
     "output_type": "stream",
     "text": [
      "Enter the year of the calender:2024\n",
      "Enter the month of the 2024:07\n",
      "     July 2024\n",
      "Su Mo Tu We Th Fr Sa\n",
      "    1  2  3  4  5  6\n",
      " 7  8  9 10 11 12 13\n",
      "14 15 16 17 18 19 20\n",
      "21 22 23 24 25 26 27\n",
      "28 29 30 31\n",
      "\n"
     ]
    }
   ],
   "source": [
    "#3:Write a Python program to display calendar.\n",
    "def Display_calender(year,month):\n",
    "    import calendar\n",
    "    \"\"\"Dsplay the calender for a specific month and year\n",
    "    Parameters :\n",
    "    year (int)= Enter the year of the calender \n",
    "    month (int) = Enter the month of the calender \"\"\"\n",
    "    #create TextCalender instance \n",
    "    cal = calendar.TextCalendar(calendar.SUNDAY)\n",
    "    #Format the month and print it\n",
    "    month_calender = cal.formatmonth(year,month)\n",
    "    print(month_calender)\n",
    "    \n",
    "    #example usage\n",
    "    \n",
    "year = int(input(\"Enter the year of the calender:\"))\n",
    "month = int(input(f\"Enter the month of the {year}:\"))\n",
    "Display_calender(year,month)\n",
    "\n",
    "\n",
    "    \n",
    "        \n"
   ]
  },
  {
   "cell_type": "code",
   "execution_count": 11,
   "id": "5b2f36af",
   "metadata": {},
   "outputs": [
    {
     "name": "stdout",
     "output_type": "stream",
     "text": [
      "Enter the Coefficient a:10\n",
      "Enter the coefficient b:10\n",
      "Enter the constant:10\n",
      "The roots of the quadratic equation are:\n",
      "(-0.5+0.8660254037844387j)\n",
      "(-0.5-0.8660254037844387j)\n"
     ]
    }
   ],
   "source": [
    "#4:Write a Python program to solve quadratic equation?^\n",
    "#Quadratic formula \n",
    "def Quadratic_Equation(a,b,c):\n",
    "    import math\n",
    "    \"\"\"Solve a quadratic equation a x^2+bx+c=0\n",
    "    Parameters:\n",
    "    a(float):coefficient of x^2\n",
    "    b(float):coefficient of x\n",
    "    c(float):constant term\n",
    "    \n",
    "    return :\n",
    "    tuple: A tuple containing the roots of the quadratic equation.\n",
    "    \"\"\"\n",
    "    if a ==0:\n",
    "        if b==0:\n",
    "            if c==0:\n",
    "                return \"Infinite Solution\"\n",
    "            else:\n",
    "                return \"No solution\"\n",
    "        else:\n",
    "            return(-c/b,)\n",
    "      #Calculating descriminant\n",
    "    discriminant = b**2-4*a*c\n",
    "    \n",
    "    if discriminant >0:\n",
    "        root1 = (-b+math.sqrt(discriminant))/(2*a*b)\n",
    "        root2 = (+b-math.sqrt(discriminant))/(2*a*b)\n",
    "        return (root1,root2)\n",
    "    elif discriminant ==0:\n",
    "        root = -b/(2*a)\n",
    "        return (root,)\n",
    "    else:\n",
    "        real_part = -b/(2*a)\n",
    "        imaginary_part = math.sqrt(-discriminant)/(2*a)\n",
    "        root1 = complex (real_part,imaginary_part)\n",
    "        root2 = complex(real_part,-imaginary_part)\n",
    "        return (root1,root2)\n",
    "#Example usage\n",
    "a=float(input(\"Enter the Coefficient a:\"))\n",
    "b = float(input(\"Enter the coefficient b:\"))\n",
    "c=float(input(\"Enter the constant:\"))\n",
    "roots = Quadratic_Equation(a,b,c)\n",
    "print(\"The roots of the quadratic equation are:\")\n",
    "for root in roots:\n",
    "    print(root)"
   ]
  },
  {
   "cell_type": "code",
   "execution_count": 20,
   "id": "ec8a36bb",
   "metadata": {},
   "outputs": [
    {
     "name": "stdout",
     "output_type": "stream",
     "text": [
      "Enter the value of a:2\n",
      "Enter the value of b:3\n",
      "The value of a:2.0 and b:3.0 before swapping\n",
      "The value of a : 3.0 and b: 2.0 after swapping\n"
     ]
    }
   ],
   "source": [
    "#5:Write a Python program to swap two variables without temp variable?\n",
    "def swap_variable(a,b):\n",
    "    #Entering the varaible a and b\n",
    "    a,b = b,a\n",
    "    return a,b\n",
    "#Example Input\n",
    "a=float(input(\"Enter the value of a:\"))\n",
    "b=float(input(\"Enter the value of b:\"))\n",
    "print(f\"The value of a:{a} and b:{b} before swapping\")\n",
    "a,b= swap_variable(a,b)\n",
    "print(f\"The value of a : {a} and b: {b} after swapping\")"
   ]
  },
  {
   "cell_type": "code",
   "execution_count": null,
   "id": "72f2a9a7",
   "metadata": {},
   "outputs": [],
   "source": []
  }
 ],
 "metadata": {
  "kernelspec": {
   "display_name": "Python 3 (ipykernel)",
   "language": "python",
   "name": "python3"
  },
  "language_info": {
   "codemirror_mode": {
    "name": "ipython",
    "version": 3
   },
   "file_extension": ".py",
   "mimetype": "text/x-python",
   "name": "python",
   "nbconvert_exporter": "python",
   "pygments_lexer": "ipython3",
   "version": "3.11.5"
  }
 },
 "nbformat": 4,
 "nbformat_minor": 5
}
