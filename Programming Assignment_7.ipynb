{
 "cells": [
  {
   "cell_type": "code",
   "execution_count": 7,
   "id": "72dd55b9",
   "metadata": {},
   "outputs": [
    {
     "name": "stdout",
     "output_type": "stream",
     "text": [
      "Enter the elements of the array separated by spaces: 1 2 3 4 6 \n",
      "The sum of the array is: 16\n"
     ]
    }
   ],
   "source": [
    "#1:Write a Python Program to find sum of array?\n",
    "#code\n",
    "def sum_of_array(arr):\n",
    "    total = 0\n",
    "    for num in arr:\n",
    "        total += num\n",
    "    return total\n",
    "\n",
    "array = list(map(int, input(\"Enter the elements of the array separated by spaces: \").split()))\n",
    "print(f\"The sum of the array is: {sum_of_array(array)}\")\n"
   ]
  },
  {
   "cell_type": "code",
   "execution_count": 9,
   "id": "0b0afc90",
   "metadata": {},
   "outputs": [
    {
     "name": "stdout",
     "output_type": "stream",
     "text": [
      "Largest element in array: 5\n"
     ]
    }
   ],
   "source": [
    "#2: Write a Python Program to find largest element in an array?\n",
    "#code:\n",
    "def largest_element(arr):\n",
    "    return max(arr)\n",
    "array = [1, 2, 3, 4, 5]\n",
    "print(\"Largest element in array:\", largest_element(array))            "
   ]
  },
  {
   "cell_type": "code",
   "execution_count": 4,
   "id": "903ff576",
   "metadata": {},
   "outputs": [
    {
     "name": "stdout",
     "output_type": "stream",
     "text": [
      "Rotated array: [5, 1, 2, 3, 4]\n"
     ]
    }
   ],
   "source": [
    "#3: Write a Python Program for array rotation?\n",
    "#code :\n",
    "def rotate_array(arr, d):\n",
    "    n = len(arr)\n",
    "    d = d % n  # In case d is greater than n\n",
    "    return arr[d:] + arr[:d]\n",
    "\n",
    "# Example usage\n",
    "array = [1, 2, 3, 4, 5]\n",
    "d = 4\n",
    "print(\"Rotated array:\", rotate_array(array, d))\n"
   ]
  },
  {
   "cell_type": "code",
   "execution_count": 6,
   "id": "28917b0a",
   "metadata": {},
   "outputs": [
    {
     "name": "stdout",
     "output_type": "stream",
     "text": [
      "Array after split and add: [3, 4, 5, 1, 2]\n"
     ]
    }
   ],
   "source": [
    "#4: Write a Python Program to Split the array and add the first part to the end?\n",
    "# code:\n",
    "def split_and_add(arr, n):\n",
    "    return arr[n:] + arr[:n]\n",
    "\n",
    "# Example usage\n",
    "array = [1, 2, 3, 4, 5]\n",
    "n = 2\n",
    "print(\"Array after split and add:\", split_and_add(array, n))\n"
   ]
  },
  {
   "cell_type": "code",
   "execution_count": 7,
   "id": "24bc01c0",
   "metadata": {},
   "outputs": [
    {
     "name": "stdout",
     "output_type": "stream",
     "text": [
      "Is the array monotonic? True\n"
     ]
    }
   ],
   "source": [
    "#5: Write a Python Program to check if given array is Monotonic?\n",
    "#code:\n",
    "def is_monotonic(arr):\n",
    "    increasing = all(arr[i] <= arr[i + 1] for i in range(len(arr) - 1))\n",
    "    decreasing = all(arr[i] >= arr[i + 1] for i in range(len(arr) - 1))\n",
    "    return increasing or decreasing\n",
    "\n",
    "# Example usage\n",
    "array = [1, 2, 2, 3, 4]\n",
    "print(\"Is the array monotonic?\", is_monotonic(array))\n"
   ]
  },
  {
   "cell_type": "code",
   "execution_count": null,
   "id": "0d23b9a0",
   "metadata": {},
   "outputs": [],
   "source": []
  }
 ],
 "metadata": {
  "kernelspec": {
   "display_name": "Python 3 (ipykernel)",
   "language": "python",
   "name": "python3"
  },
  "language_info": {
   "codemirror_mode": {
    "name": "ipython",
    "version": 3
   },
   "file_extension": ".py",
   "mimetype": "text/x-python",
   "name": "python",
   "nbconvert_exporter": "python",
   "pygments_lexer": "ipython3",
   "version": "3.11.5"
  }
 },
 "nbformat": 4,
 "nbformat_minor": 5
}
